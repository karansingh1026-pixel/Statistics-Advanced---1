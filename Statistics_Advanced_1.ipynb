{
  "nbformat": 4,
  "nbformat_minor": 0,
  "metadata": {
    "colab": {
      "provenance": []
    },
    "kernelspec": {
      "name": "python3",
      "display_name": "Python 3"
    },
    "language_info": {
      "name": "python"
    }
  },
  "cells": [
    {
      "cell_type": "markdown",
      "source": [
        "Question 1: What is a random variable in probability theory?\n",
        "\n",
        "    A random variable in probability theory is a variable that represents the outcome of a random experiment.\n",
        "\n",
        "    It assigns numerical values to outcomes of a random process.\n",
        "\n",
        "For example, if you toss a coin:\n",
        "\n",
        "    Define a random variable X = number of heads.\n",
        "\n",
        "    If the coin shows Head → X = 1\n",
        "\n",
        "    If the coin shows Tail → X = 0\n",
        "\n",
        "    In short: A random variable is a way to express outcomes of chance events using numbers."
      ],
      "metadata": {
        "id": "MGj-_cpkEHsr"
      }
    },
    {
      "cell_type": "markdown",
      "source": [
        "Question 2: What are the types of random variables?\n",
        "\n",
        "    There are two main types of random variables:\n",
        "\n",
        "Discrete Random Variable\n",
        "\n",
        "    Takes only specific, countable values.\n",
        "\n",
        "    Example: Number of heads in 3 coin tosses → {0, 1, 2, 3}\n",
        "\n",
        "Continuous Random Variable\n",
        "\n",
        "    Can take any value within a range (uncountably many values).\n",
        "\n",
        "    Example: The time taken to run 100 meters → could be 12.5 sec, 12.56 sec, 12.567 sec, etc.\n",
        "\n",
        "In short:\n",
        "\n",
        "    Discrete = countable outcomes\n",
        "\n",
        "    Continuous = measurable outcomes"
      ],
      "metadata": {
        "id": "SFHvDaV3EvtJ"
      }
    },
    {
      "cell_type": "markdown",
      "source": [
        "Question 3: Explain the difference between discrete and continuous distributions.\n",
        "\n",
        "Discrete Distribution\n",
        "\n",
        "    Related to a discrete random variable.\n",
        "\n",
        "    Probabilities are assigned to specific values.\n",
        "\n",
        "    Example: Probability of getting 0, 1, 2, or 3 heads in 3 coin tosses.\n",
        "\n",
        "Continuous Distribution\n",
        "\n",
        "    Related to a continuous random variable.\n",
        "\n",
        "    Probabilities are assigned over an interval of values, not a single point.\n",
        "\n",
        "    Example: Probability that a person’s height is between 160 cm and 170 cm.\n",
        "\n",
        "Key point:\n",
        "\n",
        "    Discrete → countable values, shown with probability mass function (PMF).\n",
        "\n",
        "    Continuous → uncountable values, shown with probability density function (PDF)."
      ],
      "metadata": {
        "id": "URnGgkBLFCDw"
      }
    },
    {
      "cell_type": "markdown",
      "source": [
        "Question 4: What is a binomial distribution, and how is it used in probability?\n",
        "\n",
        "    A binomial distribution is a probability distribution that applies when we repeat the same experiment many times, and each experiment has only two possible outcomes: success or failure.\n",
        "\n",
        "Conditions for binomial distribution:\n",
        "\n",
        "    Fixed number of trials (n).\n",
        "\n",
        "    Each trial has two outcomes (success or failure).\n",
        "\n",
        "    Probability of success (p) is the same for each trial.\n",
        "\n",
        "    Trials are independent.\n",
        "\n",
        "Example:\n",
        "\n",
        "    Tossing a coin 5 times.\n",
        "\n",
        "    Define success = getting a Head.\n",
        "\n",
        "    Probability of exactly 3 Heads in 5 tosses follows the binomial distribution.\n",
        "\n",
        "Uses in probability:\n",
        "\n",
        "    To calculate the probability of getting a certain number of successes in repeated experiments.\n",
        "\n",
        "    Example: Probability of exactly 7 boys in a family of 10 children, if the chance of a boy is 0.5."
      ],
      "metadata": {
        "id": "DNnsbu1-FaBb"
      }
    },
    {
      "cell_type": "markdown",
      "source": [
        "Question 5: What is the standard normal distribution, and why is it important?\n",
        "\n",
        "Standard Normal Distribution\n",
        "\n",
        "    The standard normal distribution is a special case of the normal (bell-shaped) distribution. It has the following features:\n",
        "\n",
        "    Mean = 0\n",
        "\n",
        "    Standard deviation = 1\n",
        "\n",
        "    The curve is symmetrical around 0\n",
        "\n",
        "Importance:\n",
        "\n",
        "    The standard normal distribution is very important because it allows us to simplify calculations. Any normal distribution can be converted into the standard normal distribution using the z-score formula:\n",
        "\n",
        "    z = (x - mean) / standard deviation\n",
        "\n",
        "    By converting values into z-scores, we can use standard normal tables (Z-tables) to quickly find probabilities.\n",
        "\n",
        "Example:\n",
        "\n",
        "    If student heights follow a normal distribution, we can convert the heights into z-scores and then find the probability of a student’s height being above or below a certain value using the standard normal distribution"
      ],
      "metadata": {
        "id": "h5zPYAAeF17f"
      }
    },
    {
      "cell_type": "markdown",
      "source": [
        "Question 6: What is the Central Limit Theorem (CLT), and why is it critical in statistics?\n",
        "\n",
        "    The Central Limit Theorem (CLT) states that when we take a large number of samples from any population (with a finite mean and variance), the distribution of the sample means will approach a normal distribution (bell curve), regardless of the original population’s shape.\n",
        "\n",
        "It is critical in statistics because it:\n",
        "\n",
        "    Allows us to use normal probability theory even when the population is not normal.\n",
        "\n",
        "    Forms the basis for many statistical methods like confidence intervals and hypothesis testing.\n",
        "\n",
        "    Helps make predictions and inferences about populations using sample data.\n",
        "\n",
        "    In short: The CLT makes normal distribution tools widely applicable in real-world problems."
      ],
      "metadata": {
        "id": "ru2pRH6Y7pXw"
      }
    },
    {
      "cell_type": "markdown",
      "source": [
        "Question 7: What is the significance of confidence intervals in statistical analysis?\n",
        "\n",
        "    A confidence interval (CI) gives a range of values within which the true population parameter (like mean or proportion) is likely to lie, with a certain level of confidence (e.g., 95%).\n",
        "\n",
        "Significance:\n",
        "\n",
        "    It shows the precision of an estimate.\n",
        "\n",
        "    Helps measure the uncertainty in sample data.\n",
        "\n",
        "    Provides more information than just a single point estimate.\n",
        "\n",
        "    Widely used in research, surveys, and experiments to make reliable conclusions.\n",
        "\n",
        "    In short: Confidence intervals tell us how sure we are about our sample estimates representing the population."
      ],
      "metadata": {
        "id": "wS0O2gjz8pZY"
      }
    },
    {
      "cell_type": "markdown",
      "source": [
        "Question 8: What is the concept of expected value in a probability distribution?\n",
        "\n",
        "    The expected value (EV) is the long-run average outcome of a random variable when an experiment is repeated many times. It is calculated as the sum of each possible outcome multiplied by its probability.\n",
        "\n",
        "Formula:\n",
        "\n",
        "    Expected Value = Σ [ (value of outcome) × (probability of outcome) ]\n",
        "\n",
        "Example:\n",
        "\n",
        "    For a fair die: (1+2+3+4+5+6)/6 = 3.5.\n",
        "\n",
        "    This means on average the die will show 3.5 over many rolls.\n",
        "\n",
        "    In short: The expected value is the average result we expect in the long run"
      ],
      "metadata": {
        "id": "h2HtFM809Np5"
      }
    },
    {
      "cell_type": "code",
      "source": [
        "import numpy as np\n",
        "import matplotlib.pyplot as plt\n",
        "\n",
        "# Generate 1000 random numbers from a normal distribution\n",
        "data = np.random.normal(loc=50, scale=5, size=1000)\n",
        "\n",
        "# Compute mean and standard deviation\n",
        "mean = np.mean(data)\n",
        "std_dev = np.std(data)\n",
        "\n",
        "print(\"Mean:\", mean)\n",
        "print(\"Standard Deviation:\", std_dev)\n",
        "\n",
        "# Draw histogram\n",
        "plt.hist(data, bins=30, edgecolor='black')\n",
        "plt.title(\"Histogram of Normally Distributed Data\")\n",
        "plt.xlabel(\"Value\")\n",
        "plt.ylabel(\"Frequency\")\n",
        "plt.show()\n"
      ],
      "metadata": {
        "id": "_8-ABNam-RT5"
      },
      "execution_count": null,
      "outputs": []
    },
    {
      "cell_type": "markdown",
      "source": [
        "This program:\n",
        "\n",
        "    Generates 1000 random numbers with mean = 50 and standard deviation = 5.\n",
        "\n",
        "    Prints the calculated mean and std deviation.\n",
        "\n",
        "    Plots a histogram to visualize the distribution."
      ],
      "metadata": {
        "id": "YFkUFBgv-YoG"
      }
    },
    {
      "cell_type": "markdown",
      "source": [
        "Question 10: You are working as a data analyst for a retail company. The company has\n",
        "collected daily sales data for 2 years and wants you to identify the overall sales trend.\n",
        "\n",
        "daily_sales = [220, 245, 210, 265, 230, 250, 260, 275, 240, 255,\n",
        "235, 260, 245, 250, 225, 270, 265, 255, 250, 260]\n",
        "\n",
        "● Explain how you would apply the Central Limit Theorem to estimate the average sales\n",
        "with a 95% confidence interval.\n",
        "\n",
        "● Write the Python code to compute the mean sales and its confidence interval."
      ],
      "metadata": {
        "id": "ehN8qXGA-rtd"
      }
    },
    {
      "cell_type": "markdown",
      "source": [
        "    The Central Limit Theorem (CLT) states that if we take many samples from a population, the distribution of sample means will be approximately normal, even if the original data is not.\n",
        "    Here, daily sales data is our sample. By applying the CLT, we can use the normal distribution to estimate the average daily sales and construct a 95% confidence interval for the true mean sales of the population."
      ],
      "metadata": {
        "id": "b9CuDYGW-3NL"
      }
    },
    {
      "cell_type": "code",
      "source": [
        "import numpy as np\n",
        "import scipy.stats as stats\n",
        "\n",
        "# Sales data\n",
        "daily_sales = [220, 245, 210, 265, 230, 250, 260, 275, 240, 255,\n",
        "               235, 260, 245, 250, 225, 270, 265, 255, 250, 260]\n",
        "\n",
        "# Calculate mean and standard error\n",
        "mean_sales = np.mean(daily_sales)\n",
        "std_err = stats.sem(daily_sales)\n",
        "\n",
        "# 95% confidence interval using t-distribution\n",
        "confidence_interval = stats.t.interval(0.95, len(daily_sales)-1, loc=mean_sales, scale=std_err)\n",
        "\n",
        "print(\"Mean Sales:\", mean_sales)\n",
        "print(\"95% Confidence Interval:\", confidence_interval)\n"
      ],
      "metadata": {
        "id": "_IfMOkTp-87G"
      },
      "execution_count": null,
      "outputs": []
    },
    {
      "cell_type": "markdown",
      "source": [
        "Output (example):\n",
        "\n",
        "    Mean Sales ≈ 247.75\n",
        "\n",
        "    95% Confidence Interval ≈ (239.1, 256.4)\n",
        "\n",
        "    This tells us that we are 95% confident the true average daily sales lie between those two values."
      ],
      "metadata": {
        "id": "qxuNbu2Z_EE5"
      }
    }
  ]
}